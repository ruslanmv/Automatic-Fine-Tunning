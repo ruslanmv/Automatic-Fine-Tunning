{
 "cells": [
  {
   "cell_type": "code",
   "execution_count": 17,
   "id": "80bf92d9-3210-4c0e-8f14-1be1fbc3266c",
   "metadata": {
    "tags": []
   },
   "outputs": [
    {
     "name": "stdout",
     "output_type": "stream",
     "text": [
      "Login Succeeded\n"
     ]
    },
    {
     "name": "stderr",
     "output_type": "stream",
     "text": [
      "WARNING! Your password will be stored unencrypted in /home/ec2-user/.docker/config.json.\n",
      "Configure a credential helper to remove this warning. See\n",
      "https://docs.docker.com/engine/reference/commandline/login/#credentials-store\n",
      "\n"
     ]
    },
    {
     "data": {
      "text/plain": [
       "CompletedProcess(args=['bash', '-c', 'aws ecr get-login-password --region us-east-1 | docker login --username AWS --password-stdin 717913536206.dkr.ecr.us-east-1.amazonaws.com'], returncode=0)"
      ]
     },
     "execution_count": 17,
     "metadata": {},
     "output_type": "execute_result"
    }
   ],
   "source": [
    "import subprocess\n",
    "import sys\n",
    "import boto3\n",
    "# Retrieve the Jupyter Notebook token\n",
    "jupyter_token = sys.argv[1] if len(sys.argv) > 1 else \"\"\n",
    "# Retrieve the AWS region\n",
    "session = boto3.session.Session()\n",
    "current_region = session.region_name\n",
    "# Retrieve the AWS account ID from the IAM user\n",
    "sts_client = session.client('sts')\n",
    "response = sts_client.get_caller_identity()\n",
    "account_id = response['Account']\n",
    "# Execute the Docker login command\n",
    "docker_login_command = f\"aws ecr get-login-password --region {current_region} | docker login --username AWS --password-stdin {account_id}.dkr.ecr.{current_region}.amazonaws.com\"\n",
    "subprocess.run([\"bash\", \"-c\", docker_login_command], input=jupyter_token.encode(\"utf-8\"))"
   ]
  },
  {
   "cell_type": "code",
   "execution_count": null,
   "id": "23662e26-6a95-461c-a9a2-348479f0e4b3",
   "metadata": {},
   "outputs": [],
   "source": [
    "#Build the Docker container\n",
    "docker_build_command = \"docker build -t medical-mixtral-7b-v250k .\"\n",
    "subprocess.run([\"bash\", \"-c\", docker_build_command])\n",
    "\n"
   ]
  },
  {
   "cell_type": "code",
   "execution_count": 19,
   "id": "c7daea7f-b2c3-4a60-bfe8-1275975c1ce4",
   "metadata": {
    "tags": []
   },
   "outputs": [
    {
     "name": "stderr",
     "output_type": "stream",
     "text": [
      "\n",
      "An error occurred (AccessDeniedException) when calling the CreateRepository operation: User: arn:aws:sts::717913536206:assumed-role/AmazonSageMakerServiceCatalogProductsUseRole/SageMaker is not authorized to perform: ecr:CreateRepository on resource: arn:aws:ecr:us-east-1:717913536206:repository/aimedical because no identity-based policy allows the ecr:CreateRepository action\n"
     ]
    },
    {
     "data": {
      "text/plain": [
       "CompletedProcess(args=['bash', '-c', 'aws ecr create-repository --repository-name aimedical --region us-east-1'], returncode=255)"
      ]
     },
     "execution_count": 19,
     "metadata": {},
     "output_type": "execute_result"
    }
   ],
   "source": [
    "\n",
    "# Create a new ECR repository\n",
    "ecr_repository_name = \"aimedical\"\n",
    "create_ecr_repository_command = f\"aws ecr create-repository --repository-name {ecr_repository_name} --region {current_region}\"\n",
    "subprocess.run([\"bash\", \"-c\", create_ecr_repository_command])"
   ]
  },
  {
   "cell_type": "code",
   "execution_count": 20,
   "id": "b6da6fd2-b62f-4eeb-aa5c-df4d03f20836",
   "metadata": {
    "tags": []
   },
   "outputs": [
    {
     "data": {
      "text/plain": [
       "CompletedProcess(args=['bash', '-c', 'docker tag medical-mixtral-7b-v250k:latest 717913536206.dkr.ecr.us-east-1.amazonaws.com/aimedical:latest'], returncode=0)"
      ]
     },
     "execution_count": 20,
     "metadata": {},
     "output_type": "execute_result"
    }
   ],
   "source": [
    "# Tag the Docker image\n",
    "tag_docker_image_command = f\"docker tag medical-mixtral-7b-v250k:latest {account_id}.dkr.ecr.{current_region}.amazonaws.com/{ecr_repository_name}:latest\"\n",
    "subprocess.run([\"bash\", \"-c\", tag_docker_image_command])\n"
   ]
  },
  {
   "cell_type": "code",
   "execution_count": 21,
   "id": "de6cdd7c-1b0b-4eb6-b03f-dbd57c662f67",
   "metadata": {
    "tags": []
   },
   "outputs": [
    {
     "name": "stdout",
     "output_type": "stream",
     "text": [
      "The push refers to repository [717913536206.dkr.ecr.us-east-1.amazonaws.com/aimedical]\n",
      "1c3b611570ca: Preparing\n",
      "5416f99f3568: Preparing\n",
      "15254b11f0a0: Preparing\n",
      "fe680387eba2: Preparing\n",
      "ce6e906ff40c: Preparing\n",
      "71f226a3effa: Preparing\n",
      "32f52ea0ee4b: Preparing\n",
      "5aca128d25ca: Preparing\n",
      "2814327c5674: Preparing\n",
      "cb17d65a30d9: Preparing\n",
      "9f2738d60323: Preparing\n",
      "673fded1634e: Preparing\n",
      "6c3e7df31590: Preparing\n",
      "2814327c5674: Waiting\n",
      "cb17d65a30d9: Waiting\n",
      "9f2738d60323: Waiting\n",
      "673fded1634e: Waiting\n",
      "6c3e7df31590: Waiting\n",
      "71f226a3effa: Waiting\n",
      "32f52ea0ee4b: Waiting\n",
      "5aca128d25ca: Waiting\n"
     ]
    },
    {
     "name": "stderr",
     "output_type": "stream",
     "text": [
      "denied: User: arn:aws:sts::717913536206:assumed-role/AmazonSageMakerServiceCatalogProductsUseRole/SageMaker is not authorized to perform: ecr:InitiateLayerUpload on resource: arn:aws:ecr:us-east-1:717913536206:repository/aimedical because no identity-based policy allows the ecr:InitiateLayerUpload action\n"
     ]
    },
    {
     "data": {
      "text/plain": [
       "CompletedProcess(args=['bash', '-c', 'docker push 717913536206.dkr.ecr.us-east-1.amazonaws.com/aimedical:latest'], returncode=1)"
      ]
     },
     "execution_count": 21,
     "metadata": {},
     "output_type": "execute_result"
    }
   ],
   "source": [
    "# Push the Docker image to ECR\n",
    "push_docker_image_command = f\"docker push {account_id}.dkr.ecr.{current_region}.amazonaws.com/{ecr_repository_name}:latest\"\n",
    "subprocess.run([\"bash\", \"-c\", push_docker_image_command])\n"
   ]
  },
  {
   "cell_type": "code",
   "execution_count": 33,
   "id": "db378da4-f6e1-40ca-8868-514d3be7eb3e",
   "metadata": {
    "tags": []
   },
   "outputs": [
    {
     "name": "stdout",
     "output_type": "stream",
     "text": [
      "Access denied when trying to list buckets.\n",
      "Skipping bucket creation due to access denial.\n"
     ]
    }
   ],
   "source": [
    "\n",
    "import boto3\n",
    "from botocore.exceptions import ClientError\n",
    "\n",
    "def bucket_exists(bucket_name):\n",
    "    s3 = boto3.client('s3')\n",
    "    try:\n",
    "        response = s3.list_buckets()\n",
    "        existing_buckets = [bucket['Name'] for bucket in response['Buckets']]\n",
    "        return bucket_name in existing_buckets\n",
    "    except ClientError as e:\n",
    "        if e.response['Error']['Code'] == 'AccessDenied':\n",
    "            print(\"Access denied when trying to list buckets.\")\n",
    "            return None\n",
    "        else:\n",
    "            raise\n",
    "\n",
    "s3 = boto3.client('s3')\n",
    "bucket_name = 'env-automatic'\n",
    "\n",
    "bucket_status = bucket_exists(bucket_name)\n",
    "\n",
    "if bucket_status is None:\n",
    "    print(\"Skipping bucket creation due to access denial.\")\n",
    "elif not bucket_status:\n",
    "    response = s3.create_bucket(Bucket=bucket_name)\n",
    "    print(f\"Bucket '{bucket_name}' created.\")\n",
    "    print(response)\n",
    "else:\n",
    "    print(f\"Bucket '{bucket_name}' already exists.\")\n"
   ]
  },
  {
   "cell_type": "code",
   "execution_count": 32,
   "id": "00727459-bce4-4c13-b8de-4a984861e113",
   "metadata": {
    "tags": []
   },
   "outputs": [
    {
     "name": "stdout",
     "output_type": "stream",
     "text": [
      "SageMaker Execution Role ARN: arn:aws:iam::717913536206:role/service-role/AmazonSageMakerServiceCatalogProductsUseRole\n"
     ]
    }
   ],
   "source": [
    "import sagemaker\n",
    "# Get the default SageMaker execution role\n",
    "role = sagemaker.get_execution_role()\n",
    "print(\"SageMaker Execution Role ARN:\", role)"
   ]
  },
  {
   "cell_type": "code",
   "execution_count": null,
   "id": "e9b0a23f-9203-4b4b-b7d9-42a5afa74434",
   "metadata": {},
   "outputs": [],
   "source": [
    "import subprocess\n",
    "import sys\n",
    "import boto3\n",
    "# Create a SageMaker Processing Job using the Docker Image\n",
    "import boto3\n",
    "sagemaker = boto3.client('sagemaker')\n",
    "job_name = 'FineTuning'\n",
    "image_uri = f\"{account_id}.dkr.ecr.{current_region}.amazonaws.com/{ecr_repository_name}:latest\"\n",
    "output_s3_uri = f's3://{bucket_name}/output'\n",
    "\n",
    "processing_job_request = {\n",
    "    'ProcessingJobName': job_name,\n",
    "    'RoleArn': role,\n",
    "    'AppSpecification': {\n",
    "        'ImageUri': image_uri,\n",
    "    },\n",
    "    'ProcessingOutputConfig': {\n",
    "        'Outputs': [\n",
    "            {\n",
    "                'OutputName': 'output',\n",
    "                'S3Output': {\n",
    "                    'S3Uri': output_s3_uri,\n",
    "                    'LocalPath': '/app/output',\n",
    "                    'S3UploadMode': 'EndOfJob'\n",
    "                }\n",
    "            }\n",
    "        ]\n",
    "    },\n",
    "    'ProcessingResources': {\n",
    "        'ClusterConfig': {\n",
    "            'InstanceCount': 1,\n",
    "            'InstanceType': 'ml.m5.xlarge',\n",
    "            'VolumeSizeInGB': 30\n",
    "        }\n",
    "    }\n",
    "}\n",
    "response = sagemaker.create_processing_job(**processing_job_request)\n",
    "print(response)\n"
   ]
  }
 ],
 "metadata": {
  "kernelspec": {
   "display_name": "conda_python3",
   "language": "python",
   "name": "conda_python3"
  },
  "language_info": {
   "codemirror_mode": {
    "name": "ipython",
    "version": 3
   },
   "file_extension": ".py",
   "mimetype": "text/x-python",
   "name": "python",
   "nbconvert_exporter": "python",
   "pygments_lexer": "ipython3",
   "version": "3.10.13"
  }
 },
 "nbformat": 4,
 "nbformat_minor": 5
}
