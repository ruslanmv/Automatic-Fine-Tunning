{
 "cells": [
  {
   "cell_type": "code",
   "execution_count": null,
   "id": "7138ac0d-28a2-4918-a3bb-90611ae8686d",
   "metadata": {
    "tags": []
   },
   "outputs": [],
   "source": [
    "import subprocess\n",
    "import sys\n",
    "import boto3\n",
    "import sagemaker\n",
    "import os\n",
    "from dotenv import load_dotenv\n",
    "from IPython.display import clear_output\n",
    "from sagemaker.processing import ScriptProcessor, ProcessingInput, ProcessingOutput"
   ]
  },
  {
   "cell_type": "code",
   "execution_count": null,
   "id": "86c5c251-ea8f-48d9-8444-acd6ca43c862",
   "metadata": {
    "tags": []
   },
   "outputs": [],
   "source": [
    "# Retrieve the Jupyter Notebook token\n",
    "jupyter_token = sys.argv[1] if len(sys.argv) > 1 else \"\"\n",
    "\n",
    "# Retrieve the AWS region\n",
    "session = boto3.session.Session()\n",
    "current_region = session.region_name\n",
    "\n",
    "# Retrieve the AWS account ID from the IAM user\n",
    "sts_client = session.client('sts')\n",
    "response = sts_client.get_caller_identity()\n",
    "account_id = response['Account']\n",
    "\n",
    "# Execute the Docker login command\n",
    "docker_login_command = f\"aws ecr get-login-password --region {current_region} | docker login --username AWS --password-stdin {account_id}.dkr.ecr.{current_region}.amazonaws.com\"\n",
    "subprocess.run([\"bash\", \"-c\", docker_login_command], input=jupyter_token.encode(\"utf-8\"))"
   ]
  },
  {
   "cell_type": "code",
   "execution_count": null,
   "id": "97fb8679-767c-455f-bd1b-89999a9e61e5",
   "metadata": {
    "tags": []
   },
   "outputs": [],
   "source": [
    "# Build the Docker container\n",
    "docker_build_command = \"docker build -t medical-mixtral-7b-v2k .\"\n",
    "subprocess.run([\"bash\", \"-c\", docker_build_command])\n",
    "clear_output()"
   ]
  },
  {
   "cell_type": "code",
   "execution_count": null,
   "id": "1c62336b-144d-42c4-a6af-efbde0aeeeca",
   "metadata": {
    "tags": []
   },
   "outputs": [],
   "source": [
    "# Create a new ECR repository\n",
    "ecr_repository_name = \"aimedical\"\n",
    "create_ecr_repository_command = f\"aws ecr create-repository --repository-name {ecr_repository_name} --region {current_region}\"\n",
    "subprocess.run([\"bash\", \"-c\", create_ecr_repository_command])"
   ]
  },
  {
   "cell_type": "code",
   "execution_count": null,
   "id": "6804a20d-8778-43e3-8c29-7fd9d7e685c2",
   "metadata": {
    "tags": []
   },
   "outputs": [],
   "source": [
    "# Tag the Docker image\n",
    "tag_docker_image_command = f\"docker tag medical-mixtral-7b-v1k:latest {account_id}.dkr.ecr.{current_region}.amazonaws.com/{ecr_repository_name}:latest\"\n",
    "subprocess.run([\"bash\", \"-c\", tag_docker_image_command])"
   ]
  },
  {
   "cell_type": "code",
   "execution_count": null,
   "id": "d273771c-7234-4937-a1bb-bc805df09152",
   "metadata": {
    "tags": []
   },
   "outputs": [],
   "source": [
    "# Push the Docker image to ECR\n",
    "push_docker_image_command = f\"docker push {account_id}.dkr.ecr.{current_region}.amazonaws.com/{ecr_repository_name}:latest\"\n",
    "subprocess.run([\"bash\", \"-c\", push_docker_image_command])"
   ]
  },
  {
   "cell_type": "code",
   "execution_count": null,
   "id": "6355227a-5d66-4a60-8236-4375f4a3aad1",
   "metadata": {},
   "outputs": [],
   "source": [
    "# Get the default SageMaker execution role\n",
    "role = sagemaker.get_execution_role()\n",
    "print(\"SageMaker Execution Role ARN:\", role)\n"
   ]
  },
  {
   "cell_type": "code",
   "execution_count": null,
   "id": "51a543d2-0b86-4ca5-a4a6-76d34e0b1a35",
   "metadata": {
    "tags": []
   },
   "outputs": [],
   "source": [
    "# Check if .env file exists\n",
    "if not os.path.exists('.env'):\n",
    "    # Print the URL for Hugging Face token\n",
    "    print(\"Please go to the following URL and obtain your Hugging Face token:\")\n",
    "    print(\"https://huggingface.co/settings/tokens\")\n",
    "    print()\n",
    "    # Prompt user to enter HF_TOKEN manually\n",
    "    hf_token = input(\"Please enter your Hugging Face token: \")\n",
    "\n",
    "    # Create or append to .env file\n",
    "    with open('.env', 'a') as f:\n",
    "        f.write(f\"HF_TOKEN={hf_token}\\n\")\n",
    "\n",
    "# Load the .env file\n",
    "load_dotenv()\n",
    "# Retrieve the value of HF_TOKEN from the environment variables\n",
    "secret_hf = os.environ.get('HF_TOKEN')\n",
    "# Clear output to hide the token\n",
    "from IPython.display import clear_output\n",
    "clear_output()\n",
    "# Print the value of HF_TOKEN\n",
    "print(\"Loaded HF Token\")"
   ]
  },
  {
   "cell_type": "code",
   "execution_count": null,
   "id": "98dd6116-7cd8-4c10-8063-273316e5ee71",
   "metadata": {
    "tags": []
   },
   "outputs": [],
   "source": [
    "# Set up the environment variables (assuming secret_hf is a valid secret)\n",
    "environment_variables = {\n",
    "    'HF_TOKEN': secret_hf\n",
    "}\n",
    "instance_type = 'ml.g4dn.xlarge'\n",
    "\n",
    "# Define the code to run (assuming FineTune.ipynb is within the container)\n",
    "code_file = 'FineTune.ipynb'\n",
    "# command=['jupyter', 'nbconvert', '--to', 'notebook', '--execute', 'FineTune.ipynb']\n",
    "\n",
    "# Set up the ScriptProcessor\n",
    "script_processor = ScriptProcessor(\n",
    "    command=['jupyter', 'nbconvert', '--to', 'notebook', '--execute'],\n",
    "    image_uri=f'{account_id}.dkr.ecr.{current_region}.amazonaws.com/{ecr_repository_name}:latest',\n",
    "    role=role,\n",
    "    instance_count=1,\n",
    "    instance_type=instance_type,\n",
    "    env=environment_variables\n",
    ")\n",
    "\n",
    "# Run the script\n",
    "script_processor.run(code=code_file)\n"
   ]
  },
  {
   "cell_type": "code",
   "execution_count": null,
   "id": "a4c60c67-673b-4032-922a-a12fa1a5f236",
   "metadata": {},
   "outputs": [],
   "source": []
  }
 ],
 "metadata": {
  "kernelspec": {
   "display_name": "conda_pytorch_p310",
   "language": "python",
   "name": "conda_pytorch_p310"
  },
  "language_info": {
   "codemirror_mode": {
    "name": "ipython",
    "version": 3
   },
   "file_extension": ".py",
   "mimetype": "text/x-python",
   "name": "python",
   "nbconvert_exporter": "python",
   "pygments_lexer": "ipython3",
   "version": "3.10.13"
  }
 },
 "nbformat": 4,
 "nbformat_minor": 5
}
