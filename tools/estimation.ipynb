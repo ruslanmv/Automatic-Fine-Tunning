{
 "cells": [
  {
   "cell_type": "code",
   "execution_count": null,
   "metadata": {},
   "outputs": [],
   "source": [
    "import psutil\n",
    "import torch\n",
    "\n",
    "def estimate_training_parameters():\n",
    "    # Get system specifications\n",
    "    cpu_count = psutil.cpu_count(logical=False)\n",
    "    total_memory_gb = psutil.virtual_memory().total / (1024 ** 3)\n",
    "    gpu_count = torch.cuda.device_count()\n",
    "    gpu_memory_gb = torch.cuda.get_device_properties(0).total_memory / (1024 ** 3)\n",
    "\n",
    "    # Estimate training parameters\n",
    "    per_device_train_batch_size = min(8, cpu_count)\n",
    "    gradient_accumulation_steps = max(1, min(16, int(cpu_count / per_device_train_batch_size)))\n",
    "    optim = 'paged_adamw_32bit' if gpu_memory_gb >= 32 else 'adamw'\n",
    "    learning_rate = 2e-4 if gpu_memory_gb >= 32 else 1e-4\n",
    "    fp16 = gpu_memory_gb >= 16\n",
    "    bf16 = gpu_memory_gb >= 16\n",
    "    max_seq_length = min(1024, int(gpu_memory_gb * 0.5))\n",
    "    num_train_epochs = min(3, int(total_memory_gb * 0.5))\n",
    "    max_grad_norm = 0.3\n",
    "    lr_scheduler_type = 'linear'\n",
    "\n",
    "    # Return estimated parameters as a dictionary\n",
    "    return {\n",
    "        'per_device_train_batch_size': per_device_train_batch_size,\n",
    "        'gradient_accumulation_steps': gradient_accumulation_steps,\n",
    "        'optim': optim,\n",
    "        'learning_rate': learning_rate,\n",
    "        'fp16': fp16,\n",
    "        'bf16': bf16,\n",
    "        'max_seq_length': max_seq_length,\n",
    "        'num_train_epochs': num_train_epochs,\n",
    "        'max_grad_norm': max_grad_norm,\n",
    "        'lr_scheduler_type': lr_scheduler_type\n",
    "    }\n",
    "\n",
    "# Example usage\n",
    "estimated_params = estimate_training_parameters()\n",
    "print(estimated_params)\n"
   ]
  },
  {
   "cell_type": "markdown",
   "metadata": {},
   "source": [
    "```python\n",
    "# Setting the training arguments\n",
    "training_arguments_opt = TrainingArguments(\n",
    "    output_dir=\"./results\",\n",
    "    num_train_epochs=estimated_params['num_train_epochs'],\n",
    "    per_device_train_batch_size=estimated_params['per_device_train_batch_size'],\n",
    "    gradient_accumulation_steps=estimated_params['gradient_accumulation_steps'],\n",
    "    optim=\"paged_adamw_32bit\",\n",
    "    learning_rate=estimated_params['learning_rate'],\n",
    "    fp16=estimated_params['fp16'],\n",
    "    bf16=estimated_params['bf16'],\n",
    "    max_grad_norm=estimated_params['max_grad_norm'],\n",
    "    lr_scheduler_type=estimated_params['lr_scheduler_type']\n",
    ")\n",
    "```"
   ]
  }
 ],
 "metadata": {
  "language_info": {
   "name": "python"
  }
 },
 "nbformat": 4,
 "nbformat_minor": 2
}
